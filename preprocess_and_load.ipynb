{
 "cells": [
  {
   "cell_type": "markdown",
   "metadata": {},
   "source": [
    "### *NOTE - Please refer to project report pdf & queries sql file for more details*"
   ]
  },
  {
   "cell_type": "markdown",
   "metadata": {},
   "source": [
    "# LIBRARIES"
   ]
  },
  {
   "cell_type": "code",
   "execution_count": 30,
   "metadata": {},
   "outputs": [],
   "source": [
    "import json\n",
    "import csv\n",
    "import pandas as pd\n",
    "import datetime\n",
    "import sqlite3"
   ]
  },
  {
   "cell_type": "markdown",
   "metadata": {},
   "source": [
    "### Parameters: "
   ]
  },
  {
   "cell_type": "code",
   "execution_count": 31,
   "metadata": {},
   "outputs": [
    {
     "name": "stdout",
     "output_type": "stream",
     "text": [
      "Current Timestamp:  2021-07-19 23:30:02\n",
      "Database:  bungalow.db\n"
     ]
    }
   ],
   "source": [
    "dateTimeObj  = datetime.datetime.now()\n",
    "timestampStr = dateTimeObj.strftime(\"%Y-%m-%d %H:%M:%S\")\n",
    "db = \"bungalow.db\"\n",
    "print('Current Timestamp: ', timestampStr)\n",
    "print('Database: ',db)\n",
    "#\n",
    "#---------------------------------#\n",
    "rent_data_path = '/Users/naveenm/Downloads/takehome-data-eng-main/sample-data/zillow-rental-data.json'\n",
    "#---------------------------------#\n",
    "sale_data_path = '/Users/naveenm/Downloads/takehome-data-eng-main/sample-data/mls-sale-data.csv'\n",
    "#"
   ]
  },
  {
   "cell_type": "markdown",
   "metadata": {},
   "source": [
    "# Stage 1 - Extract, Transform & Load"
   ]
  },
  {
   "cell_type": "markdown",
   "metadata": {},
   "source": [
    "## Load from source Zillow File (Rent data): "
   ]
  },
  {
   "cell_type": "code",
   "execution_count": 32,
   "metadata": {},
   "outputs": [
    {
     "data": {
      "text/plain": [
       "(44339, 25)"
      ]
     },
     "execution_count": 32,
     "metadata": {},
     "output_type": "execute_result"
    }
   ],
   "source": [
    "rent_df = pd.read_json(rent_data_path)\n",
    "rent_df.shape"
   ]
  },
  {
   "cell_type": "markdown",
   "metadata": {},
   "source": [
    "### Expand data column in JSON source file to read useful info:"
   ]
  },
  {
   "cell_type": "code",
   "execution_count": 33,
   "metadata": {},
   "outputs": [
    {
     "data": {
      "text/plain": [
       "(44339, 29)"
      ]
     },
     "execution_count": 33,
     "metadata": {},
     "output_type": "execute_result"
    }
   ],
   "source": [
    "df2     = pd.json_normalize(rent_df['data'])\n",
    "fields  = [\"home_status\",\"zillow_id\",\"home_type\",\"year_built\"]\n",
    "df2     = df2[fields]\n",
    "rent_df = rent_df.merge(df2,left_index=True,right_index=True)\n",
    "rent_df.shape"
   ]
  },
  {
   "cell_type": "markdown",
   "metadata": {},
   "source": [
    "# Load from source MLS File (Sale data): "
   ]
  },
  {
   "cell_type": "code",
   "execution_count": 39,
   "metadata": {},
   "outputs": [
    {
     "data": {
      "text/plain": [
       "(41042, 28)"
      ]
     },
     "execution_count": 39,
     "metadata": {},
     "output_type": "execute_result"
    }
   ],
   "source": [
    "sale_df = pd.read_csv(sale_data_path)\n",
    "sale_df.shape"
   ]
  },
  {
   "cell_type": "code",
   "execution_count": 40,
   "metadata": {},
   "outputs": [],
   "source": [
    "### Rename column names for convenience and replace special characters"
   ]
  },
  {
   "cell_type": "code",
   "execution_count": 41,
   "metadata": {},
   "outputs": [],
   "source": [
    "rent_df.columns = rent_df.columns.str.replace(' ','_').str.lower()\n",
    "#---------------------------------# \n",
    "sale_df = sale_df.rename(columns={'URL (SEE http://www.redfin.com/buy-a-home/comparative-market-analysis FOR INFO ON PRICING)': 'URL','MLS#':'MLS_ID'})\n",
    "sale_df.columns = sale_df.columns.str.replace(' ','_').str.lower()"
   ]
  },
  {
   "cell_type": "markdown",
   "metadata": {},
   "source": [
    "### Remove duplicate records, retain the last occurrence"
   ]
  },
  {
   "cell_type": "code",
   "execution_count": 42,
   "metadata": {},
   "outputs": [
    {
     "name": "stdout",
     "output_type": "stream",
     "text": [
      "<class 'pandas.core.frame.DataFrame'>\n",
      "RangeIndex: 41042 entries, 0 to 41041\n",
      "Data columns (total 28 columns):\n",
      " #   Column                      Non-Null Count  Dtype  \n",
      "---  ------                      --------------  -----  \n",
      " 0   sale_type                   41042 non-null  object \n",
      " 1   sold_date                   2 non-null      object \n",
      " 2   property_type               41042 non-null  object \n",
      " 3   address                     40692 non-null  object \n",
      " 4   city                        41010 non-null  object \n",
      " 5   state_or_province           41038 non-null  object \n",
      " 6   zip_or_postal_code          41035 non-null  object \n",
      " 7   price                       41041 non-null  float64\n",
      " 8   beds                        40349 non-null  float64\n",
      " 9   baths                       40089 non-null  float64\n",
      " 10  location                    40258 non-null  object \n",
      " 11  square_feet                 36988 non-null  float64\n",
      " 12  lot_size                    37835 non-null  float64\n",
      " 13  year_built                  39824 non-null  float64\n",
      " 14  days_on_market              40416 non-null  float64\n",
      " 15  $/square_feet               36939 non-null  float64\n",
      " 16  hoa/month                   0 non-null      float64\n",
      " 17  status                      41042 non-null  object \n",
      " 18  next_open_house_start_time  5393 non-null   object \n",
      " 19  next_open_house_end_time    5393 non-null   object \n",
      " 20  url                         41042 non-null  object \n",
      " 21  source                      41042 non-null  object \n",
      " 22  mls_id                      41041 non-null  object \n",
      " 23  favorite                    41042 non-null  object \n",
      " 24  interested                  41042 non-null  object \n",
      " 25  latitude                    41042 non-null  float64\n",
      " 26  longitude                   41042 non-null  float64\n",
      " 27  market                      41042 non-null  object \n",
      "dtypes: float64(11), object(17)\n",
      "memory usage: 8.8+ MB\n"
     ]
    }
   ],
   "source": [
    "sale_df.info()"
   ]
  },
  {
   "cell_type": "code",
   "execution_count": 43,
   "metadata": {},
   "outputs": [],
   "source": [
    "rent_df = rent_df.drop_duplicates(subset = ['id','url'], keep='last')\n",
    "#---------------------------------#\n",
    "sale_df = sale_df.drop_duplicates(subset = ['url','mls_id'], keep='last')"
   ]
  },
  {
   "cell_type": "markdown",
   "metadata": {},
   "source": [
    "### Modify a few columns on both rent & sale datasets for consistency across the Database"
   ]
  },
  {
   "cell_type": "code",
   "execution_count": 44,
   "metadata": {},
   "outputs": [],
   "source": [
    "rent_df['region'].replace({'Alabama':'AL','Alaska':'AK','Arizona':'AZ',\n",
    "        'Arkansas':'AR','California':'CA','Colorado':'CO','Connecticut':'CT',\n",
    "        'Delaware':'DE','District of Columbia':'DC','Florida':'FL','Georgia':'GA',\n",
    "        'Hawaii':'HI','Idaho':'ID','Illinois':'IL','Indiana':'IN',\n",
    "        'Iowa':'IA','Kansas':'KS','Kentucky':'KY','Louisiana':'LA',\n",
    "        'Maine':'ME','Maryland':'MD','Massachusetts':'MA','Michigan':'MI',\n",
    "        'Minnesota':'MN','Mississippi':'MS','Missouri':'MO','Montana':'MT',\n",
    "        'Nebraska':'NE','Nevada':'NV','New Hampshire':'NH','New Jersey':'NJ',\n",
    "        'New Mexico':'NM','New York':'NY','North Carolina':'NC','North Dakota':'ND',\n",
    "        'Ohio':'OH','Oklahoma':'OK','Oregon':'OR','Pennsylvania':'PA',\n",
    "        'Rhode Island':'RI','South Carolina':'SC','South Dakota':'SD','Tennessee':'TN',\n",
    "        'Texas':'TX','Utah':'UT','Vermont':'VT','Virginia':'VA','Washington':'WA','West Virginia':'WV',\n",
    "        'Wisconsin':'WI','Wyoming':'WY'}, inplace=True)\n",
    "rent_df['market']      = rent_df.market.str.replace('-', '')\n",
    "rent_df['home_status'] = rent_df.home_status.str.replace('FOR_RENT','ForRent')\n",
    "rent_df['city']        = rent_df['city'].str.lower()\n",
    "rent_df['data']        = rent_df['data'].astype('str')\n",
    "#---------------------------------#\n",
    "sale_df['state_or_province'].replace({'Alabama':'AL','Alaska':'AK','Arizona':'AZ',\n",
    "        'Arkansas':'AR','California':'CA','Colorado':'CO','Connecticut':'CT',\n",
    "        'Delaware':'DE','District of Columbia':'DC','Florida':'FL','Georgia':'GA',\n",
    "        'Hawaii':'HI','Idaho':'ID','Illinois':'IL','Indiana':'IN',\n",
    "        'Iowa':'IA','Kansas':'KS','Kentucky':'KY','Louisiana':'LA',\n",
    "        'Maine':'ME','Maryland':'MD','Massachusetts':'MA','Michigan':'MI',\n",
    "        'Minnesota':'MN','Mississippi':'MS','Missouri':'MO','Montana':'MT',\n",
    "        'Nebraska':'NE','Nevada':'NV','New Hampshire':'NH','New Jersey':'NJ',\n",
    "        'New Mexico':'NM','New York':'NY','North Carolina':'NC','North Dakota':'ND',\n",
    "        'Ohio':'OH','Oklahoma':'OK','Oregon':'OR','Pennsylvania':'PA',\n",
    "        'Rhode Island':'RI','South Carolina':'SC',\n",
    "        'South Dakota':'SD','Tennessee':'TN','Texas':'TX','Utah':'UT',\n",
    "        'Vermont':'VT','Virginia':'VA','Washington':'WA','West Virginia':'WV',\n",
    "        'Wisconsin':'WI','Wyoming':'WY'}, inplace=True)\n",
    "sale_df['market'] = sale_df.market.str.replace('-', '')\n",
    "sale_df['city']   = sale_df['city'].str.lower()"
   ]
  },
  {
   "cell_type": "markdown",
   "metadata": {},
   "source": [
    "### Adding Load timestamp before writing to DB:"
   ]
  },
  {
   "cell_type": "code",
   "execution_count": 45,
   "metadata": {},
   "outputs": [],
   "source": [
    "rent_df[\"load_ts\"] = timestampStr\n",
    "#---------------------------------#\n",
    "sale_df[\"load_ts\"] = timestampStr"
   ]
  },
  {
   "cell_type": "markdown",
   "metadata": {},
   "source": [
    "### Create DB Connection:"
   ]
  },
  {
   "cell_type": "code",
   "execution_count": 46,
   "metadata": {},
   "outputs": [
    {
     "name": "stdout",
     "output_type": "stream",
     "text": [
      "<sqlite3.Connection object at 0x7fc6c8fe28a0>\n"
     ]
    }
   ],
   "source": [
    "conn = sqlite3.connect(db)\n",
    "print(conn)"
   ]
  },
  {
   "cell_type": "markdown",
   "metadata": {},
   "source": [
    "# Load to DB:\n",
    "#### Note - if_exists to be changed to 'append' for incremental load.\n",
    "#### Master Tables have source data with Minor transformations"
   ]
  },
  {
   "cell_type": "code",
   "execution_count": 47,
   "metadata": {},
   "outputs": [],
   "source": [
    "sale_df.to_sql('sale_df_master', conn, if_exists='replace', index=False)\n",
    "#---------------------------------#\n",
    "rent_df.to_sql('rent_df_master', conn, if_exists='replace', index=False)\n"
   ]
  },
  {
   "cell_type": "markdown",
   "metadata": {},
   "source": [
    "### validation: read counts from DB & check a few rows"
   ]
  },
  {
   "cell_type": "code",
   "execution_count": 48,
   "metadata": {},
   "outputs": [
    {
     "data": {
      "text/html": [
       "<div>\n",
       "<style scoped>\n",
       "    .dataframe tbody tr th:only-of-type {\n",
       "        vertical-align: middle;\n",
       "    }\n",
       "\n",
       "    .dataframe tbody tr th {\n",
       "        vertical-align: top;\n",
       "    }\n",
       "\n",
       "    .dataframe thead th {\n",
       "        text-align: right;\n",
       "    }\n",
       "</style>\n",
       "<table border=\"1\" class=\"dataframe\">\n",
       "  <thead>\n",
       "    <tr style=\"text-align: right;\">\n",
       "      <th></th>\n",
       "      <th>count(*)</th>\n",
       "    </tr>\n",
       "  </thead>\n",
       "  <tbody>\n",
       "    <tr>\n",
       "      <th>0</th>\n",
       "      <td>39452</td>\n",
       "    </tr>\n",
       "  </tbody>\n",
       "</table>\n",
       "</div>"
      ],
      "text/plain": [
       "   count(*)\n",
       "0     39452"
      ]
     },
     "execution_count": 48,
     "metadata": {},
     "output_type": "execute_result"
    }
   ],
   "source": [
    "pd.read_sql('select count(*) from sale_df_master', conn)"
   ]
  },
  {
   "cell_type": "code",
   "execution_count": 49,
   "metadata": {},
   "outputs": [
    {
     "data": {
      "text/html": [
       "<div>\n",
       "<style scoped>\n",
       "    .dataframe tbody tr th:only-of-type {\n",
       "        vertical-align: middle;\n",
       "    }\n",
       "\n",
       "    .dataframe tbody tr th {\n",
       "        vertical-align: top;\n",
       "    }\n",
       "\n",
       "    .dataframe thead th {\n",
       "        text-align: right;\n",
       "    }\n",
       "</style>\n",
       "<table border=\"1\" class=\"dataframe\">\n",
       "  <thead>\n",
       "    <tr style=\"text-align: right;\">\n",
       "      <th></th>\n",
       "      <th>count(*)</th>\n",
       "    </tr>\n",
       "  </thead>\n",
       "  <tbody>\n",
       "    <tr>\n",
       "      <th>0</th>\n",
       "      <td>44339</td>\n",
       "    </tr>\n",
       "  </tbody>\n",
       "</table>\n",
       "</div>"
      ],
      "text/plain": [
       "   count(*)\n",
       "0     44339"
      ]
     },
     "execution_count": 49,
     "metadata": {},
     "output_type": "execute_result"
    }
   ],
   "source": [
    "pd.read_sql('select count(*) from rent_df_master', conn)"
   ]
  },
  {
   "cell_type": "code",
   "execution_count": 50,
   "metadata": {},
   "outputs": [
    {
     "data": {
      "text/html": [
       "<div>\n",
       "<style scoped>\n",
       "    .dataframe tbody tr th:only-of-type {\n",
       "        vertical-align: middle;\n",
       "    }\n",
       "\n",
       "    .dataframe tbody tr th {\n",
       "        vertical-align: top;\n",
       "    }\n",
       "\n",
       "    .dataframe thead th {\n",
       "        text-align: right;\n",
       "    }\n",
       "</style>\n",
       "<table border=\"1\" class=\"dataframe\">\n",
       "  <thead>\n",
       "    <tr style=\"text-align: right;\">\n",
       "      <th></th>\n",
       "      <th>sale_type</th>\n",
       "      <th>sold_date</th>\n",
       "      <th>property_type</th>\n",
       "      <th>address</th>\n",
       "      <th>city</th>\n",
       "      <th>state_or_province</th>\n",
       "      <th>zip_or_postal_code</th>\n",
       "      <th>price</th>\n",
       "      <th>beds</th>\n",
       "      <th>baths</th>\n",
       "      <th>...</th>\n",
       "      <th>next_open_house_end_time</th>\n",
       "      <th>url</th>\n",
       "      <th>source</th>\n",
       "      <th>mls_id</th>\n",
       "      <th>favorite</th>\n",
       "      <th>interested</th>\n",
       "      <th>latitude</th>\n",
       "      <th>longitude</th>\n",
       "      <th>market</th>\n",
       "      <th>load_ts</th>\n",
       "    </tr>\n",
       "  </thead>\n",
       "  <tbody>\n",
       "    <tr>\n",
       "      <th>0</th>\n",
       "      <td>MLS Listing</td>\n",
       "      <td>None</td>\n",
       "      <td>Single Family Residential</td>\n",
       "      <td>129 W Upsal St</td>\n",
       "      <td>philadelphia</td>\n",
       "      <td>PA</td>\n",
       "      <td>19119</td>\n",
       "      <td>839000.0</td>\n",
       "      <td>6.0</td>\n",
       "      <td>3.5</td>\n",
       "      <td>...</td>\n",
       "      <td>June-26-2021 02:00 PM</td>\n",
       "      <td>http://www.redfin.com/PA/Philadelphia/129-W-Up...</td>\n",
       "      <td>BRIGHT MLS</td>\n",
       "      <td>PAPH2003206</td>\n",
       "      <td>N</td>\n",
       "      <td>Y</td>\n",
       "      <td>40.045757</td>\n",
       "      <td>-75.186434</td>\n",
       "      <td>philadelphia</td>\n",
       "      <td>2021-07-19 23:30:02</td>\n",
       "    </tr>\n",
       "    <tr>\n",
       "      <th>1</th>\n",
       "      <td>MLS Listing</td>\n",
       "      <td>None</td>\n",
       "      <td>Multi-Family (2-4 Unit)</td>\n",
       "      <td>4236 Otter St</td>\n",
       "      <td>philadelphia</td>\n",
       "      <td>PA</td>\n",
       "      <td>19104</td>\n",
       "      <td>300000.0</td>\n",
       "      <td>6.0</td>\n",
       "      <td>3.0</td>\n",
       "      <td>...</td>\n",
       "      <td>None</td>\n",
       "      <td>http://www.redfin.com/PA/Philadelphia/4236-Ott...</td>\n",
       "      <td>BRIGHT MLS</td>\n",
       "      <td>PAPH1020452</td>\n",
       "      <td>N</td>\n",
       "      <td>Y</td>\n",
       "      <td>39.970768</td>\n",
       "      <td>-75.209881</td>\n",
       "      <td>philadelphia</td>\n",
       "      <td>2021-07-19 23:30:02</td>\n",
       "    </tr>\n",
       "    <tr>\n",
       "      <th>2</th>\n",
       "      <td>MLS Listing</td>\n",
       "      <td>None</td>\n",
       "      <td>Multi-Family (2-4 Unit)</td>\n",
       "      <td>1326 N 7th St</td>\n",
       "      <td>philadelphia</td>\n",
       "      <td>PA</td>\n",
       "      <td>19122</td>\n",
       "      <td>575000.0</td>\n",
       "      <td>5.0</td>\n",
       "      <td>3.5</td>\n",
       "      <td>...</td>\n",
       "      <td>None</td>\n",
       "      <td>http://www.redfin.com/PA/Philadelphia/1326-N-7...</td>\n",
       "      <td>BRIGHT MLS</td>\n",
       "      <td>PAPH1005860</td>\n",
       "      <td>N</td>\n",
       "      <td>Y</td>\n",
       "      <td>39.972575</td>\n",
       "      <td>-75.147937</td>\n",
       "      <td>philadelphia</td>\n",
       "      <td>2021-07-19 23:30:02</td>\n",
       "    </tr>\n",
       "    <tr>\n",
       "      <th>3</th>\n",
       "      <td>MLS Listing</td>\n",
       "      <td>None</td>\n",
       "      <td>Multi-Family (2-4 Unit)</td>\n",
       "      <td>4840 E Roosevelt Blvd</td>\n",
       "      <td>philadelphia</td>\n",
       "      <td>PA</td>\n",
       "      <td>19124</td>\n",
       "      <td>249900.0</td>\n",
       "      <td>NaN</td>\n",
       "      <td>NaN</td>\n",
       "      <td>...</td>\n",
       "      <td>None</td>\n",
       "      <td>http://www.redfin.com/PA/Philadelphia/4840-E-R...</td>\n",
       "      <td>BRIGHT MLS</td>\n",
       "      <td>PAPH999802</td>\n",
       "      <td>N</td>\n",
       "      <td>Y</td>\n",
       "      <td>40.026797</td>\n",
       "      <td>-75.095321</td>\n",
       "      <td>philadelphia</td>\n",
       "      <td>2021-07-19 23:30:02</td>\n",
       "    </tr>\n",
       "    <tr>\n",
       "      <th>4</th>\n",
       "      <td>MLS Listing</td>\n",
       "      <td>None</td>\n",
       "      <td>Multi-Family (2-4 Unit)</td>\n",
       "      <td>1806 W Berks St</td>\n",
       "      <td>philadelphia</td>\n",
       "      <td>PA</td>\n",
       "      <td>19121</td>\n",
       "      <td>824900.0</td>\n",
       "      <td>NaN</td>\n",
       "      <td>NaN</td>\n",
       "      <td>...</td>\n",
       "      <td>None</td>\n",
       "      <td>http://www.redfin.com/PA/Philadelphia/1806-W-B...</td>\n",
       "      <td>BRIGHT MLS</td>\n",
       "      <td>PAPH2003774</td>\n",
       "      <td>N</td>\n",
       "      <td>Y</td>\n",
       "      <td>39.982389</td>\n",
       "      <td>-75.164274</td>\n",
       "      <td>philadelphia</td>\n",
       "      <td>2021-07-19 23:30:02</td>\n",
       "    </tr>\n",
       "  </tbody>\n",
       "</table>\n",
       "<p>5 rows × 29 columns</p>\n",
       "</div>"
      ],
      "text/plain": [
       "     sale_type sold_date              property_type                address  \\\n",
       "0  MLS Listing      None  Single Family Residential         129 W Upsal St   \n",
       "1  MLS Listing      None    Multi-Family (2-4 Unit)          4236 Otter St   \n",
       "2  MLS Listing      None    Multi-Family (2-4 Unit)          1326 N 7th St   \n",
       "3  MLS Listing      None    Multi-Family (2-4 Unit)  4840 E Roosevelt Blvd   \n",
       "4  MLS Listing      None    Multi-Family (2-4 Unit)        1806 W Berks St   \n",
       "\n",
       "           city state_or_province zip_or_postal_code     price  beds  baths  \\\n",
       "0  philadelphia                PA              19119  839000.0   6.0    3.5   \n",
       "1  philadelphia                PA              19104  300000.0   6.0    3.0   \n",
       "2  philadelphia                PA              19122  575000.0   5.0    3.5   \n",
       "3  philadelphia                PA              19124  249900.0   NaN    NaN   \n",
       "4  philadelphia                PA              19121  824900.0   NaN    NaN   \n",
       "\n",
       "   ... next_open_house_end_time  \\\n",
       "0  ...    June-26-2021 02:00 PM   \n",
       "1  ...                     None   \n",
       "2  ...                     None   \n",
       "3  ...                     None   \n",
       "4  ...                     None   \n",
       "\n",
       "                                                 url      source       mls_id  \\\n",
       "0  http://www.redfin.com/PA/Philadelphia/129-W-Up...  BRIGHT MLS  PAPH2003206   \n",
       "1  http://www.redfin.com/PA/Philadelphia/4236-Ott...  BRIGHT MLS  PAPH1020452   \n",
       "2  http://www.redfin.com/PA/Philadelphia/1326-N-7...  BRIGHT MLS  PAPH1005860   \n",
       "3  http://www.redfin.com/PA/Philadelphia/4840-E-R...  BRIGHT MLS   PAPH999802   \n",
       "4  http://www.redfin.com/PA/Philadelphia/1806-W-B...  BRIGHT MLS  PAPH2003774   \n",
       "\n",
       "   favorite  interested   latitude  longitude        market  \\\n",
       "0         N           Y  40.045757 -75.186434  philadelphia   \n",
       "1         N           Y  39.970768 -75.209881  philadelphia   \n",
       "2         N           Y  39.972575 -75.147937  philadelphia   \n",
       "3         N           Y  40.026797 -75.095321  philadelphia   \n",
       "4         N           Y  39.982389 -75.164274  philadelphia   \n",
       "\n",
       "               load_ts  \n",
       "0  2021-07-19 23:30:02  \n",
       "1  2021-07-19 23:30:02  \n",
       "2  2021-07-19 23:30:02  \n",
       "3  2021-07-19 23:30:02  \n",
       "4  2021-07-19 23:30:02  \n",
       "\n",
       "[5 rows x 29 columns]"
      ]
     },
     "execution_count": 50,
     "metadata": {},
     "output_type": "execute_result"
    }
   ],
   "source": [
    "pd.read_sql('select * from sale_df_master limit 5', conn)"
   ]
  },
  {
   "cell_type": "code",
   "execution_count": 51,
   "metadata": {
    "scrolled": true
   },
   "outputs": [
    {
     "data": {
      "text/html": [
       "<div>\n",
       "<style scoped>\n",
       "    .dataframe tbody tr th:only-of-type {\n",
       "        vertical-align: middle;\n",
       "    }\n",
       "\n",
       "    .dataframe tbody tr th {\n",
       "        vertical-align: top;\n",
       "    }\n",
       "\n",
       "    .dataframe thead th {\n",
       "        text-align: right;\n",
       "    }\n",
       "</style>\n",
       "<table border=\"1\" class=\"dataframe\">\n",
       "  <thead>\n",
       "    <tr style=\"text-align: right;\">\n",
       "      <th></th>\n",
       "      <th>id</th>\n",
       "      <th>source</th>\n",
       "      <th>market</th>\n",
       "      <th>url</th>\n",
       "      <th>type</th>\n",
       "      <th>listing_type</th>\n",
       "      <th>property_id</th>\n",
       "      <th>price</th>\n",
       "      <th>sqft</th>\n",
       "      <th>beds</th>\n",
       "      <th>...</th>\n",
       "      <th>longitude</th>\n",
       "      <th>data</th>\n",
       "      <th>date_added</th>\n",
       "      <th>date_last_updated</th>\n",
       "      <th>date_last_seen</th>\n",
       "      <th>home_status</th>\n",
       "      <th>zillow_id</th>\n",
       "      <th>home_type</th>\n",
       "      <th>year_built</th>\n",
       "      <th>load_ts</th>\n",
       "    </tr>\n",
       "  </thead>\n",
       "  <tbody>\n",
       "    <tr>\n",
       "      <th>0</th>\n",
       "      <td>2943858</td>\n",
       "      <td>zillow</td>\n",
       "      <td>newyork</td>\n",
       "      <td>https://www.zillow.com/homedetails/126-W-25th-...</td>\n",
       "      <td>supply</td>\n",
       "      <td>multi_bed</td>\n",
       "      <td>be03a5a8-8d07-4666-8608-9aa1cf3e4d25</td>\n",
       "      <td>6995</td>\n",
       "      <td>1500.0</td>\n",
       "      <td>4.0</td>\n",
       "      <td>...</td>\n",
       "      <td>-73.993150</td>\n",
       "      <td>{'city': 'New York', 'link': 'https://www.zill...</td>\n",
       "      <td>2021-07-04T04:59:55.347407+00:00</td>\n",
       "      <td>2021-07-04T04:59:55.351266+00:00</td>\n",
       "      <td>2021-07-04T04:59:55.351266+00:00</td>\n",
       "      <td>ForRent</td>\n",
       "      <td>2113894529</td>\n",
       "      <td>Apartment</td>\n",
       "      <td>None</td>\n",
       "      <td>2021-07-19 23:30:02</td>\n",
       "    </tr>\n",
       "    <tr>\n",
       "      <th>1</th>\n",
       "      <td>2943855</td>\n",
       "      <td>zillow</td>\n",
       "      <td>newyork</td>\n",
       "      <td>https://www.zillow.com/homedetails/348-E-66th-...</td>\n",
       "      <td>supply</td>\n",
       "      <td>multi_bed</td>\n",
       "      <td>14e82680-e585-4c40-b51c-e82fc731744b</td>\n",
       "      <td>2400</td>\n",
       "      <td>NaN</td>\n",
       "      <td>2.0</td>\n",
       "      <td>...</td>\n",
       "      <td>-73.959470</td>\n",
       "      <td>{'city': 'New York', 'link': 'https://www.zill...</td>\n",
       "      <td>2021-07-04T04:43:07.330851+00:00</td>\n",
       "      <td>2021-07-04T04:43:07.334958+00:00</td>\n",
       "      <td>2021-07-04T04:43:07.334958+00:00</td>\n",
       "      <td>ForRent</td>\n",
       "      <td>2069772688</td>\n",
       "      <td>Apartment</td>\n",
       "      <td>None</td>\n",
       "      <td>2021-07-19 23:30:02</td>\n",
       "    </tr>\n",
       "    <tr>\n",
       "      <th>2</th>\n",
       "      <td>2943853</td>\n",
       "      <td>zillow</td>\n",
       "      <td>newyork</td>\n",
       "      <td>https://www.zillow.com/homedetails/205-W-15th-...</td>\n",
       "      <td>supply</td>\n",
       "      <td>multi_bed</td>\n",
       "      <td>097fad53-1b36-4dbd-9a83-eaf341c4c8cb</td>\n",
       "      <td>4750</td>\n",
       "      <td>750.0</td>\n",
       "      <td>2.0</td>\n",
       "      <td>...</td>\n",
       "      <td>-73.999855</td>\n",
       "      <td>{'city': 'New York', 'link': 'https://www.zill...</td>\n",
       "      <td>2021-07-04T04:37:44.101649+00:00</td>\n",
       "      <td>2021-07-04T04:37:44.105638+00:00</td>\n",
       "      <td>2021-07-04T04:37:44.105638+00:00</td>\n",
       "      <td>ForRent</td>\n",
       "      <td>2096425072</td>\n",
       "      <td>Apartment</td>\n",
       "      <td>None</td>\n",
       "      <td>2021-07-19 23:30:02</td>\n",
       "    </tr>\n",
       "    <tr>\n",
       "      <th>3</th>\n",
       "      <td>2943816</td>\n",
       "      <td>zillow</td>\n",
       "      <td>newyork</td>\n",
       "      <td>https://www.zillow.com/homedetails/54-E-Brinke...</td>\n",
       "      <td>supply</td>\n",
       "      <td>multi_bed</td>\n",
       "      <td>9030684f-1d39-4068-a28d-5ec979fc8947</td>\n",
       "      <td>2590</td>\n",
       "      <td>3422.0</td>\n",
       "      <td>3.0</td>\n",
       "      <td>...</td>\n",
       "      <td>-73.996326</td>\n",
       "      <td>{'city': 'Palisades Park', 'link': 'https://ww...</td>\n",
       "      <td>2021-07-04T04:33:19.255868+00:00</td>\n",
       "      <td>2021-07-04T04:33:19.259817+00:00</td>\n",
       "      <td>2021-07-04T04:33:19.259817+00:00</td>\n",
       "      <td>ForRent</td>\n",
       "      <td>37988522</td>\n",
       "      <td>Townhouse</td>\n",
       "      <td>None</td>\n",
       "      <td>2021-07-19 23:30:02</td>\n",
       "    </tr>\n",
       "    <tr>\n",
       "      <th>4</th>\n",
       "      <td>2943798</td>\n",
       "      <td>zillow</td>\n",
       "      <td>newyork</td>\n",
       "      <td>https://www.zillow.com/homedetails/44-Tompkins...</td>\n",
       "      <td>supply</td>\n",
       "      <td>multi_bed</td>\n",
       "      <td>fff53774-9548-4095-9c46-e8e71cb86aef</td>\n",
       "      <td>2099</td>\n",
       "      <td>875.0</td>\n",
       "      <td>3.0</td>\n",
       "      <td>...</td>\n",
       "      <td>-73.947174</td>\n",
       "      <td>{'city': 'Brooklyn', 'link': 'https://www.zill...</td>\n",
       "      <td>2021-07-04T04:14:05.310886+00:00</td>\n",
       "      <td>2021-07-04T04:14:05.314815+00:00</td>\n",
       "      <td>2021-07-04T04:14:05.314815+00:00</td>\n",
       "      <td>ForRent</td>\n",
       "      <td>2077582448</td>\n",
       "      <td>Apartment</td>\n",
       "      <td>None</td>\n",
       "      <td>2021-07-19 23:30:02</td>\n",
       "    </tr>\n",
       "  </tbody>\n",
       "</table>\n",
       "<p>5 rows × 30 columns</p>\n",
       "</div>"
      ],
      "text/plain": [
       "        id  source   market  \\\n",
       "0  2943858  zillow  newyork   \n",
       "1  2943855  zillow  newyork   \n",
       "2  2943853  zillow  newyork   \n",
       "3  2943816  zillow  newyork   \n",
       "4  2943798  zillow  newyork   \n",
       "\n",
       "                                                 url    type listing_type  \\\n",
       "0  https://www.zillow.com/homedetails/126-W-25th-...  supply    multi_bed   \n",
       "1  https://www.zillow.com/homedetails/348-E-66th-...  supply    multi_bed   \n",
       "2  https://www.zillow.com/homedetails/205-W-15th-...  supply    multi_bed   \n",
       "3  https://www.zillow.com/homedetails/54-E-Brinke...  supply    multi_bed   \n",
       "4  https://www.zillow.com/homedetails/44-Tompkins...  supply    multi_bed   \n",
       "\n",
       "                            property_id  price    sqft  beds  ...  longitude  \\\n",
       "0  be03a5a8-8d07-4666-8608-9aa1cf3e4d25   6995  1500.0   4.0  ... -73.993150   \n",
       "1  14e82680-e585-4c40-b51c-e82fc731744b   2400     NaN   2.0  ... -73.959470   \n",
       "2  097fad53-1b36-4dbd-9a83-eaf341c4c8cb   4750   750.0   2.0  ... -73.999855   \n",
       "3  9030684f-1d39-4068-a28d-5ec979fc8947   2590  3422.0   3.0  ... -73.996326   \n",
       "4  fff53774-9548-4095-9c46-e8e71cb86aef   2099   875.0   3.0  ... -73.947174   \n",
       "\n",
       "                                                data  \\\n",
       "0  {'city': 'New York', 'link': 'https://www.zill...   \n",
       "1  {'city': 'New York', 'link': 'https://www.zill...   \n",
       "2  {'city': 'New York', 'link': 'https://www.zill...   \n",
       "3  {'city': 'Palisades Park', 'link': 'https://ww...   \n",
       "4  {'city': 'Brooklyn', 'link': 'https://www.zill...   \n",
       "\n",
       "                         date_added                 date_last_updated  \\\n",
       "0  2021-07-04T04:59:55.347407+00:00  2021-07-04T04:59:55.351266+00:00   \n",
       "1  2021-07-04T04:43:07.330851+00:00  2021-07-04T04:43:07.334958+00:00   \n",
       "2  2021-07-04T04:37:44.101649+00:00  2021-07-04T04:37:44.105638+00:00   \n",
       "3  2021-07-04T04:33:19.255868+00:00  2021-07-04T04:33:19.259817+00:00   \n",
       "4  2021-07-04T04:14:05.310886+00:00  2021-07-04T04:14:05.314815+00:00   \n",
       "\n",
       "                     date_last_seen home_status   zillow_id  home_type  \\\n",
       "0  2021-07-04T04:59:55.351266+00:00     ForRent  2113894529  Apartment   \n",
       "1  2021-07-04T04:43:07.334958+00:00     ForRent  2069772688  Apartment   \n",
       "2  2021-07-04T04:37:44.105638+00:00     ForRent  2096425072  Apartment   \n",
       "3  2021-07-04T04:33:19.259817+00:00     ForRent    37988522  Townhouse   \n",
       "4  2021-07-04T04:14:05.314815+00:00     ForRent  2077582448  Apartment   \n",
       "\n",
       "  year_built              load_ts  \n",
       "0       None  2021-07-19 23:30:02  \n",
       "1       None  2021-07-19 23:30:02  \n",
       "2       None  2021-07-19 23:30:02  \n",
       "3       None  2021-07-19 23:30:02  \n",
       "4       None  2021-07-19 23:30:02  \n",
       "\n",
       "[5 rows x 30 columns]"
      ]
     },
     "execution_count": 51,
     "metadata": {},
     "output_type": "execute_result"
    }
   ],
   "source": [
    "pd.read_sql('select * from rent_df_master limit 5', conn)"
   ]
  },
  {
   "cell_type": "markdown",
   "metadata": {},
   "source": [
    "# Stage 2 - Aggregate Source data from Database for insights enablement"
   ]
  },
  {
   "cell_type": "markdown",
   "metadata": {},
   "source": [
    "## Create new Table with Aggregated data for data science/Data anaysis teams:"
   ]
  },
  {
   "cell_type": "code",
   "execution_count": 52,
   "metadata": {},
   "outputs": [],
   "source": [
    "#\n",
    "# Merge Data from Rent & Sales datasets:\n",
    "#\n",
    "merge_query = \"\"\"SELECT * FROM (\n",
    "                                SELECT mls_id     as id,\n",
    "                                       'ForSale' as listing_type,\n",
    "                                        source,\n",
    "                                        status    as home_status,\n",
    "                                        market    as market,\n",
    "                                        property_type as home_type,\n",
    "                                        address,\n",
    "                                        city,\n",
    "                                        zip_or_postal_code as postal,\n",
    "                                        state_or_province as region,\n",
    "                                        price,\n",
    "                                        square_feet as sqft,\n",
    "                                        beds,\n",
    "                                        baths,\n",
    "                                        year_built\n",
    "                                FROM sale_df_master\n",
    "                                UNION ALL\n",
    "                                SELECT id,\n",
    "                                       home_status as listing_type,\n",
    "                                       source,\n",
    "                                       'Active' as home_status,\n",
    "                                       market,\n",
    "                                       home_type,\n",
    "                                       address,\n",
    "                                       city,\n",
    "                                       postal,\n",
    "                                       region,\n",
    "                                       price,\n",
    "                                       sqft,\n",
    "                                       beds,\n",
    "                                       baths,\n",
    "                                       year_built\n",
    "                                FROM rent_df_master\n",
    "                                    )\"\"\""
   ]
  },
  {
   "cell_type": "code",
   "execution_count": 53,
   "metadata": {},
   "outputs": [],
   "source": [
    "real_estate_df = pd.read_sql_query(merge_query, conn)"
   ]
  },
  {
   "cell_type": "markdown",
   "metadata": {},
   "source": [
    "### Missing Data in the aggregated Data:"
   ]
  },
  {
   "cell_type": "code",
   "execution_count": 54,
   "metadata": {},
   "outputs": [],
   "source": [
    "def missing_cols(df):\n",
    "    '''prints out columns with the # of missing values'''\n",
    "    total = 0\n",
    "    for col in df.columns:\n",
    "        missing_vals = df[col].isnull().sum()\n",
    "        total += missing_vals\n",
    "        if missing_vals != 0:\n",
    "            print(f\"{col} => {df[col].isnull().sum()}\")\n",
    "    \n",
    "    if total == 0:\n",
    "        print(\"no missing values left\")\n",
    "    else:\n",
    "        print(\"\\nTotal Missing values:%d\"%total)\n",
    "            \n"
   ]
  },
  {
   "cell_type": "code",
   "execution_count": 55,
   "metadata": {},
   "outputs": [
    {
     "name": "stdout",
     "output_type": "stream",
     "text": [
      "id => 1\n",
      "home_type => 2\n",
      "address => 335\n",
      "city => 29\n",
      "postal => 6\n",
      "region => 4\n",
      "price => 1\n",
      "sqft => 8056\n",
      "beds => 1073\n",
      "baths => 949\n",
      "year_built => 41281\n",
      "\n",
      "Total Missing values:51737\n"
     ]
    }
   ],
   "source": [
    "missing_cols(real_estate_df)"
   ]
  },
  {
   "cell_type": "markdown",
   "metadata": {},
   "source": [
    "### Duplicate Check in agg data before loading to the final DB Table:"
   ]
  },
  {
   "cell_type": "code",
   "execution_count": 56,
   "metadata": {},
   "outputs": [
    {
     "name": "stdout",
     "output_type": "stream",
     "text": [
      "False\n"
     ]
    }
   ],
   "source": [
    "x = real_estate_df.duplicated().any()\n",
    "print(x)"
   ]
  },
  {
   "cell_type": "code",
   "execution_count": 57,
   "metadata": {},
   "outputs": [
    {
     "data": {
      "text/html": [
       "<div>\n",
       "<style scoped>\n",
       "    .dataframe tbody tr th:only-of-type {\n",
       "        vertical-align: middle;\n",
       "    }\n",
       "\n",
       "    .dataframe tbody tr th {\n",
       "        vertical-align: top;\n",
       "    }\n",
       "\n",
       "    .dataframe thead th {\n",
       "        text-align: right;\n",
       "    }\n",
       "</style>\n",
       "<table border=\"1\" class=\"dataframe\">\n",
       "  <thead>\n",
       "    <tr style=\"text-align: right;\">\n",
       "      <th></th>\n",
       "      <th>id</th>\n",
       "      <th>listing_type</th>\n",
       "      <th>source</th>\n",
       "      <th>home_status</th>\n",
       "      <th>market</th>\n",
       "      <th>home_type</th>\n",
       "      <th>address</th>\n",
       "      <th>city</th>\n",
       "      <th>postal</th>\n",
       "      <th>region</th>\n",
       "      <th>price</th>\n",
       "      <th>sqft</th>\n",
       "      <th>beds</th>\n",
       "      <th>baths</th>\n",
       "      <th>year_built</th>\n",
       "    </tr>\n",
       "  </thead>\n",
       "  <tbody>\n",
       "  </tbody>\n",
       "</table>\n",
       "</div>"
      ],
      "text/plain": [
       "Empty DataFrame\n",
       "Columns: [id, listing_type, source, home_status, market, home_type, address, city, postal, region, price, sqft, beds, baths, year_built]\n",
       "Index: []"
      ]
     },
     "execution_count": 57,
     "metadata": {},
     "output_type": "execute_result"
    }
   ],
   "source": [
    "real_estate_df_dup = real_estate_df[real_estate_df.duplicated()]\n",
    "real_estate_df_dup"
   ]
  },
  {
   "cell_type": "markdown",
   "metadata": {},
   "source": [
    "### Adding timestamp before loading to DB:"
   ]
  },
  {
   "cell_type": "code",
   "execution_count": 58,
   "metadata": {},
   "outputs": [],
   "source": [
    "dateTimeObj  = datetime.datetime.now()\n",
    "timestampStr = dateTimeObj.strftime(\"%Y-%m-%d %H:%M:%S\")\n",
    "real_estate_df[\"load_ts\"] = timestampStr"
   ]
  },
  {
   "cell_type": "markdown",
   "metadata": {},
   "source": [
    "### Load Final Agg data to DB:"
   ]
  },
  {
   "cell_type": "code",
   "execution_count": 59,
   "metadata": {},
   "outputs": [
    {
     "data": {
      "text/html": [
       "<div>\n",
       "<style scoped>\n",
       "    .dataframe tbody tr th:only-of-type {\n",
       "        vertical-align: middle;\n",
       "    }\n",
       "\n",
       "    .dataframe tbody tr th {\n",
       "        vertical-align: top;\n",
       "    }\n",
       "\n",
       "    .dataframe thead th {\n",
       "        text-align: right;\n",
       "    }\n",
       "</style>\n",
       "<table border=\"1\" class=\"dataframe\">\n",
       "  <thead>\n",
       "    <tr style=\"text-align: right;\">\n",
       "      <th></th>\n",
       "      <th>count(*)</th>\n",
       "    </tr>\n",
       "  </thead>\n",
       "  <tbody>\n",
       "    <tr>\n",
       "      <th>0</th>\n",
       "      <td>83791</td>\n",
       "    </tr>\n",
       "  </tbody>\n",
       "</table>\n",
       "</div>"
      ],
      "text/plain": [
       "   count(*)\n",
       "0     83791"
      ]
     },
     "execution_count": 59,
     "metadata": {},
     "output_type": "execute_result"
    }
   ],
   "source": [
    "real_estate_df.to_sql('real_estate_gold', conn, if_exists='replace', index=False)\n",
    "pd.read_sql('select count(*) from real_estate_gold', conn)"
   ]
  },
  {
   "cell_type": "markdown",
   "metadata": {},
   "source": [
    "### Commit DB & close Connection:"
   ]
  },
  {
   "cell_type": "code",
   "execution_count": 60,
   "metadata": {},
   "outputs": [],
   "source": [
    "conn.commit()\n",
    "conn.close()"
   ]
  },
  {
   "cell_type": "markdown",
   "metadata": {},
   "source": [
    "### **NOTE - Please refer to project report pdf & queries sql file for more details **"
   ]
  }
 ],
 "metadata": {
  "kernelspec": {
   "display_name": "Python 3.8.5 64-bit ('base': conda)",
   "language": "python",
   "name": "python385jvsc74a57bd07a63a94b8309dd2cb3940066a55196dec144c901a91c6bbe711da2630594ed82"
  },
  "language_info": {
   "codemirror_mode": {
    "name": "ipython",
    "version": 3
   },
   "file_extension": ".py",
   "mimetype": "text/x-python",
   "name": "python",
   "nbconvert_exporter": "python",
   "pygments_lexer": "ipython3",
   "version": "3.8.5"
  },
  "metadata": {
   "interpreter": {
    "hash": "7a63a94b8309dd2cb3940066a55196dec144c901a91c6bbe711da2630594ed82"
   }
  }
 },
 "nbformat": 4,
 "nbformat_minor": 2
}
